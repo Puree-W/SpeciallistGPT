{
  "cells": [
    {
      "cell_type": "code",
      "execution_count": null,
      "metadata": {},
      "outputs": [],
      "source": [
        "%pip install --upgrade openai"
      ]
    },
    {
      "cell_type": "code",
      "execution_count": 1,
      "metadata": {
        "gather": {
          "logged": 1687787597342
        }
      },
      "outputs": [],
      "source": [
        "import openai\n",
        "import psycopg2\n",
        "import pandas as pd\n",
        "\n",
        "# filepath ='/home/azureuser/cloudfiles/code/Users/supakit/SimilaritySearch/Mon/'"
      ]
    },
    {
      "cell_type": "code",
      "execution_count": 2,
      "metadata": {
        "gather": {
          "logged": 1687787599042
        }
      },
      "outputs": [],
      "source": [
        "openai.api_type = \"azure\"\n",
        "openai.api_base = \"https://fusion-chatbot-demo.openai.azure.com/\"\n",
        "openai.api_version = \"2023-03-15-preview\"\n",
        "openai.api_key = \"f07d23e10600494f8235496bbf5054b9\""
      ]
    },
    {
      "cell_type": "code",
      "execution_count": 55,
      "metadata": {
        "gather": {
          "logged": 1687787600702
        },
        "jupyter": {
          "outputs_hidden": false,
          "source_hidden": false
        },
        "nteract": {
          "transient": {
            "deleting": false
          }
        }
      },
      "outputs": [],
      "source": [
        "host = \"pureelawvec.postgres.database.azure.com\"\n",
        "dbname = \"postgres\"\n",
        "user = \"pgadmin\"\n",
        "password = \"Puree1234\"\n",
        "sslmode = \"require\"\n",
        "# Construct connection string"
      ]
    },
    {
      "cell_type": "code",
      "execution_count": 56,
      "metadata": {
        "gather": {
          "logged": 1687787604150
        },
        "jupyter": {
          "outputs_hidden": false,
          "source_hidden": false
        },
        "nteract": {
          "transient": {
            "deleting": false
          }
        }
      },
      "outputs": [
        {
          "name": "stdout",
          "output_type": "stream",
          "text": [
            "Connection established\n"
          ]
        }
      ],
      "source": [
        "conn_string = \"host={0} user={1} dbname={2} password={3} sslmode={4}\".format(host, user, dbname, password, sslmode)\n",
        "conn = psycopg2.connect(conn_string) \n",
        "print(\"Connection established\")\n",
        "cursor = conn.cursor()\n",
        "# Fetch all rows from table"
      ]
    },
    {
      "cell_type": "code",
      "execution_count": 17,
      "metadata": {},
      "outputs": [
        {
          "data": {
            "text/html": [
              "<div>\n",
              "<style scoped>\n",
              "    .dataframe tbody tr th:only-of-type {\n",
              "        vertical-align: middle;\n",
              "    }\n",
              "\n",
              "    .dataframe tbody tr th {\n",
              "        vertical-align: top;\n",
              "    }\n",
              "\n",
              "    .dataframe thead th {\n",
              "        text-align: right;\n",
              "    }\n",
              "</style>\n",
              "<table border=\"1\" class=\"dataframe\">\n",
              "  <thead>\n",
              "    <tr style=\"text-align: right;\">\n",
              "      <th></th>\n",
              "      <th>text</th>\n",
              "    </tr>\n",
              "  </thead>\n",
              "  <tbody>\n",
              "    <tr>\n",
              "      <th>0</th>\n",
              "      <td>มาตรา ๑  ในประมวลกฎหมายนี้ (๑) “โดยทุจริต” หมา...</td>\n",
              "    </tr>\n",
              "    <tr>\n",
              "      <th>1</th>\n",
              "      <td>มาตรา ๒  บุคคลจักต้องรับโทษในทางอาญาต่อเมื่อได...</td>\n",
              "    </tr>\n",
              "    <tr>\n",
              "      <th>2</th>\n",
              "      <td>มาตรา ๓  ถ้ากฎหมายที่ใช้ในขณะกระทำความผิดแตกต่...</td>\n",
              "    </tr>\n",
              "    <tr>\n",
              "      <th>3</th>\n",
              "      <td>มาตรา ๔  ผู้ใดกระทำความผิดในราชอาณาจักร ต้องรั...</td>\n",
              "    </tr>\n",
              "    <tr>\n",
              "      <th>4</th>\n",
              "      <td>มาตรา ๕  ความผิดใดที่การกระทำแม้แต่ส่วนหนึ่งส่...</td>\n",
              "    </tr>\n",
              "    <tr>\n",
              "      <th>...</th>\n",
              "      <td>...</td>\n",
              "    </tr>\n",
              "    <tr>\n",
              "      <th>439</th>\n",
              "      <td>มาตรา ๓๙๔  ผู้ใดไล่ ต้อน หรือทำให้สัตว์ใด ๆ เข...</td>\n",
              "    </tr>\n",
              "    <tr>\n",
              "      <th>440</th>\n",
              "      <td>มาตรา ๓๙๕  ผู้ใดควบคุมสัตว์ใด ๆ ปล่อยปละละเลยใ...</td>\n",
              "    </tr>\n",
              "    <tr>\n",
              "      <th>441</th>\n",
              "      <td>มาตรา ๓๙๖  ผู้ใดทิ้งซากสัตว์ซึ่งอาจเน่าเหม็น ใ...</td>\n",
              "    </tr>\n",
              "    <tr>\n",
              "      <th>442</th>\n",
              "      <td>มาตรา ๓๙๗ ผู้ใดกระทำด้วยประการใด ๆ ต่อผู้อื่น ...</td>\n",
              "    </tr>\n",
              "    <tr>\n",
              "      <th>443</th>\n",
              "      <td>มาตรา ๓๙๘ ผู้ใดกระทำด้วยประการใด ๆ อันเป็นการท...</td>\n",
              "    </tr>\n",
              "  </tbody>\n",
              "</table>\n",
              "<p>444 rows × 1 columns</p>\n",
              "</div>"
            ],
            "text/plain": [
              "                                                  text\n",
              "0    มาตรา ๑  ในประมวลกฎหมายนี้ (๑) “โดยทุจริต” หมา...\n",
              "1    มาตรา ๒  บุคคลจักต้องรับโทษในทางอาญาต่อเมื่อได...\n",
              "2    มาตรา ๓  ถ้ากฎหมายที่ใช้ในขณะกระทำความผิดแตกต่...\n",
              "3    มาตรา ๔  ผู้ใดกระทำความผิดในราชอาณาจักร ต้องรั...\n",
              "4    มาตรา ๕  ความผิดใดที่การกระทำแม้แต่ส่วนหนึ่งส่...\n",
              "..                                                 ...\n",
              "439  มาตรา ๓๙๔  ผู้ใดไล่ ต้อน หรือทำให้สัตว์ใด ๆ เข...\n",
              "440  มาตรา ๓๙๕  ผู้ใดควบคุมสัตว์ใด ๆ ปล่อยปละละเลยใ...\n",
              "441  มาตรา ๓๙๖  ผู้ใดทิ้งซากสัตว์ซึ่งอาจเน่าเหม็น ใ...\n",
              "442  มาตรา ๓๙๗ ผู้ใดกระทำด้วยประการใด ๆ ต่อผู้อื่น ...\n",
              "443  มาตรา ๓๙๘ ผู้ใดกระทำด้วยประการใด ๆ อันเป็นการท...\n",
              "\n",
              "[444 rows x 1 columns]"
            ]
          },
          "execution_count": 17,
          "metadata": {},
          "output_type": "execute_result"
        }
      ],
      "source": [
        "import pandas as pd\n",
        "import os\n",
        "\n",
        "df = pd.read_csv(\"criminal-datasets.csv\")\n",
        "df['text'] = df['text'].astype(str) + df['notes'].astype(str)\n",
        "df['text'] = df['text'].str.replace('nan', '')\n",
        "df = df.drop(['article','notes'], axis = 1)\n",
        "df = df.drop(df.index[0:9])\n",
        "df = df.reset_index()\n",
        "df = df.drop('index', axis = 1)\n",
        "df"
      ]
    },
    {
      "cell_type": "code",
      "execution_count": 41,
      "metadata": {},
      "outputs": [],
      "source": [
        "import requests, uuid, json\n",
        "\n",
        "\n",
        "# You can pass more than one object in body.\n",
        "def thai2eng(input):\n",
        "    key = \"041e6b79b96146eabafaf524d78911be\"\n",
        "    endpoint = \"https://api.cognitive.microsofttranslator.com\"\n",
        "    location = \"southeastasia\"\n",
        "    path = '/translate'\n",
        "    constructed_url = endpoint + path\n",
        "\n",
        "    params = {\n",
        "        'api-version': '3.0',\n",
        "        'from': 'th',\n",
        "        'to': ['en']\n",
        "    }\n",
        "\n",
        "    headers = {\n",
        "        'Ocp-Apim-Subscription-Key': key,\n",
        "        'Ocp-Apim-Subscription-Region': location,\n",
        "        'Content-type': 'application/json',\n",
        "        'X-ClientTraceId': str(uuid.uuid4())\n",
        "    }\n",
        "    # translated = []\n",
        "    # for string in input:\n",
        "    body = [{\n",
        "        'text': input\n",
        "    }]\n",
        "    request = requests.post(constructed_url, params=params, headers=headers, json=body)\n",
        "    response = request.json()\n",
        "    # translated.append(response[0][\"translations\"][0]['text'])\n",
        "    # print(json.dumps(response, sort_keys=True, ensure_ascii=False, indent=4, separators=(',', ': ')))\n",
        "    # print(response[0][\"translations\"][0]['text'])\n",
        "    return response[0][\"translations\"][0]['text']\n",
        "\n",
        "def eng2thai(input):\n",
        "    key = \"041e6b79b96146eabafaf524d78911be\"\n",
        "    endpoint = \"https://api.cognitive.microsofttranslator.com\"\n",
        "    location = \"southeastasia\"\n",
        "    path = '/translate'\n",
        "    constructed_url = endpoint + path\n",
        "\n",
        "    params = {\n",
        "        'api-version': '3.0',\n",
        "        'from': 'en',\n",
        "        'to': ['th']\n",
        "    }\n",
        "\n",
        "    headers = {\n",
        "        'Ocp-Apim-Subscription-Key': key,\n",
        "        'Ocp-Apim-Subscription-Region': location,\n",
        "        'Content-type': 'application/json',\n",
        "        'X-ClientTraceId': str(uuid.uuid4())\n",
        "    }\n",
        "    # translated = []\n",
        "    # for string in input:\n",
        "    body = [{\n",
        "        'text': input\n",
        "    }]\n",
        "    request = requests.post(constructed_url, params=params, headers=headers, json=body)\n",
        "    response = request.json()\n",
        "    # translated.append(response[0][\"translations\"][0]['text'])\n",
        "    # print(json.dumps(response, sort_keys=True, ensure_ascii=False, indent=4, separators=(',', ': ')))\n",
        "    # print(response[0][\"translations\"][0]['text'])\n",
        "    return response[0][\"translations\"][0]['text']"
      ]
    },
    {
      "cell_type": "code",
      "execution_count": 44,
      "metadata": {
        "gather": {
          "logged": 1687787606960
        }
      },
      "outputs": [],
      "source": [
        "import pandas as pd\n",
        "import re\n",
        "\n",
        "df = pd.read_csv(\"law.csv\")\n",
        "df['Content'] = df['Content'].str.replace(\"\\n\", \" \")\n",
        "# Extract sections using regular expressions\n",
        "pattern = r'Section \\d+\\..*?(?=Section \\d+\\.|$)'\n",
        "df['Section'] = df['Content'].apply(lambda x: re.findall(pattern, x, re.DOTALL))\n",
        "# Explode the list of sections into separate rows\n",
        "df = df.explode('Section')\n",
        "df_text = df.drop('Content', axis= 1)\n",
        "# # Reset index\n",
        "df_text.reset_index(drop=True, inplace=True)\n",
        "df = df_text.dropna()\n",
        "# for row in df_text.Content:\n",
        "#     if row < 20:\n",
        "#         df_text.drop(row)"
      ]
    },
    {
      "cell_type": "code",
      "execution_count": null,
      "metadata": {
        "gather": {
          "logged": 1687787676267
        }
      },
      "outputs": [],
      "source": [
        "import numpy as np\n",
        "x = np.squeeze(df.Section.values)\n",
        "sentence_list = [x for x in x]\n",
        "sentence_list"
      ]
    },
    {
      "cell_type": "code",
      "execution_count": null,
      "metadata": {},
      "outputs": [],
      "source": [
        "translated = []\n",
        "for item in sentence_list:\n",
        "    translated.append(eng2thai(item))\n",
        "translated"
      ]
    },
    {
      "cell_type": "code",
      "execution_count": null,
      "metadata": {},
      "outputs": [],
      "source": [
        "from sentence_transformers import SentenceTransformer\n",
        "embed_list = []\n",
        "model = SentenceTransformer('sentence-transformers/all-MiniLM-L6-v2')\n",
        "embeddings = model.encode(sentence_list)\n",
        "embed_list.append(embeddings.tolist())\n",
        "print(embeddings)\n"
      ]
    },
    {
      "cell_type": "code",
      "execution_count": 10,
      "metadata": {
        "gather": {
          "logged": 1687787680832
        }
      },
      "outputs": [],
      "source": [
        "vectorstore, only_vectorstore, text = [], [], []\n",
        "embed_model = \"text-embedding-ada-002\"\n",
        "Vectorstore, Only_Vectorstore = [], [] # consist of 20 vectors of chunk (sentence1 , sentence2, sentence3, ... ,sentence20)\n",
        "for idx in range(len(sentence_list)):\n",
        "  embedding_ = openai.Embedding.create(input=sentence_list[idx],engine=embed_model)\n",
        "  Vectorstore.append(embedding_)\n",
        "\n",
        "for item in Vectorstore:\n",
        "  for data_item in item['data']:\n",
        "    Vector = data_item['embedding']\n",
        "    Only_Vectorstore.append(Vector)"
      ]
    },
    {
      "cell_type": "code",
      "execution_count": null,
      "metadata": {
        "gather": {
          "logged": 1687787688675
        },
        "jupyter": {
          "outputs_hidden": false,
          "source_hidden": false
        },
        "nteract": {
          "transient": {
            "deleting": false
          }
        }
      },
      "outputs": [],
      "source": [
        "try:\n",
        "    # cursor.execute(\"CREATE EXTENSION IF NOT EXISTS pg_trgm;\")\n",
        "    cursor.execute(\"DROP TABLE Thai_Law\")\n",
        "    cursor.execute(\"DROP TABLE Eng_Law\")\n",
        "    cursor.execute(\"CREATE EXTENSION IF NOT EXISTS vector;\")\n",
        "    cursor.execute(\"\"\" \n",
        "    CREATE TABLE Criminal_Law(\n",
        "        id INTEGER PRIMARY KEY,\n",
        "        embedding vector,\n",
        "        text_eng TEXT,\n",
        "        text_thai TEXT\n",
        "    );\"\"\")\n",
        "    for i in range(len(sentence_list)):  \n",
        "        cursor.execute(\"INSERT INTO Criminal_Law(id, embedding, text_eng, text_thai) VALUES (%s, %s, %s, %s);\",   \n",
        "                    (i, embed_list[0][i], sentence_list[i], translated[i]))\n",
        "        print(sentence_list[i]) \n",
        "        print(embed_list[0][i])\n",
        "        conn.commit()  \n",
        "except Exception as e:\n",
        "        print(f\"Error: {e}\")\n",
        "        conn.rollback()"
      ]
    },
    {
      "cell_type": "code",
      "execution_count": 61,
      "metadata": {
        "gather": {
          "logged": 1687787702719
        }
      },
      "outputs": [],
      "source": [
        "# def text2vec(input):\n",
        "#     # input = translator(input)\n",
        "#     embedding = openai.Embedding.create(input = input, engine = \"text-embedding-ada-002\")\n",
        "#     return embedding['data'][0]['embedding']\n",
        "\n",
        "def text2vec(input):\n",
        "    embed_list = []\n",
        "    model = SentenceTransformer('sentence-transformers/all-MiniLM-L6-v2')\n",
        "    embeddings = model.encode(input)\n",
        "    embed_list.append(embeddings.tolist())\n",
        "    return embed_list[0]\n",
        "\n",
        "def search_vectordb(question):\n",
        "    search_text = []\n",
        "    try:\n",
        "         cursor.execute(f\"\"\"SELECT text_thai, cosine_distance('{text2vec(question)}', embedding) as cosign\n",
        "         FROM Criminal_Law\n",
        "         ORDER BY cosine_distance('{text2vec(question)}', embedding) ASC LIMIT 7\n",
        "         \"\"\")\n",
        "         query = cursor.fetchall()\n",
        "         text_eng_results = [row[0] for row in query] \n",
        "         return text_eng_results\n",
        "    except Exception as e:  \n",
        "            print(f\"Error: {e}\")\n",
        "            conn.rollback()\n",
        "    return \"null\"\n",
        "\n",
        "#WHERE cosine_distance('{text2vec(question)}', embedding) < {start}"
      ]
    },
    {
      "cell_type": "code",
      "execution_count": null,
      "metadata": {
        "gather": {
          "logged": 1687787707081
        }
      },
      "outputs": [],
      "source": [
        "search_vectordb(thai2eng(\"เผาบ้าน\"))"
      ]
    },
    {
      "cell_type": "code",
      "execution_count": 41,
      "metadata": {
        "gather": {
          "logged": 1687787241694
        },
        "jupyter": {
          "outputs_hidden": false,
          "source_hidden": false
        },
        "nteract": {
          "transient": {
            "deleting": false
          }
        }
      },
      "outputs": [],
      "source": [
        "conn.commit()\n",
        "cursor.close()\n",
        "conn.close()"
      ]
    }
  ],
  "metadata": {
    "kernel_info": {
      "name": "python38-azureml"
    },
    "kernelspec": {
      "display_name": "base",
      "language": "python",
      "name": "python3"
    },
    "language_info": {
      "codemirror_mode": {
        "name": "ipython",
        "version": 3
      },
      "file_extension": ".py",
      "mimetype": "text/x-python",
      "name": "python",
      "nbconvert_exporter": "python",
      "pygments_lexer": "ipython3",
      "version": "3.11.4"
    },
    "microsoft": {
      "host": {
        "AzureML": {
          "notebookHasBeenCompleted": true
        }
      },
      "ms_spell_check": {
        "ms_spell_check_language": "en"
      }
    },
    "nteract": {
      "version": "nteract-front-end@1.0.0"
    }
  },
  "nbformat": 4,
  "nbformat_minor": 2
}
