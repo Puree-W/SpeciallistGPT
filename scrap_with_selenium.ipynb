{
 "cells": [
  {
   "cell_type": "code",
   "execution_count": 12,
   "metadata": {},
   "outputs": [],
   "source": [
    "from selenium import webdriver\n",
    "from selenium.webdriver.common.by import By\n",
    "from selenium.webdriver.chrome.service import Service\n",
    "from selenium.webdriver.chrome.options import Options\n",
    "from selenium.webdriver.support.ui import WebDriverWait\n",
    "from selenium.webdriver.support import expected_conditions as EC\n",
    "import csv\n",
    "import pandas as pd\n",
    "\n",
    "chrome_options = Options()\n",
    "chrome_options.add_argument(\"--headless\")\n",
    "service = Service(\"D:\\chromedriver-win64\\chromedriver.exe\")\n",
    "driver = webdriver.Chrome(service=service, options=chrome_options)\n",
    "url = \"https://library.siam-legal.com/thai-criminal-code/\"\n",
    "driver.get(url)\n",
    "pages_link, data = [], []\n",
    "pages = driver.find_element(By.CLASS_NAME, 'wp-pagenavi')\n",
    "tag = pages.find_elements(By.TAG_NAME, 'a')\n",
    "for link in tag:\n",
    "    href = link.get_attribute('href')\n",
    "    pages_link.append(href)\n",
    "pages_link.insert(0, url)\n",
    "pages_link = pages_link[:len(pages_link)-1]\n",
    "for pages in pages_link:\n",
    "    try:\n",
    "        content_link = []\n",
    "        driver.get(pages)\n",
    "        element_with_class = driver.find_element(By.CLASS_NAME, \"inner-content-wrapper\")\n",
    "        tags_within_element = element_with_class.find_elements(By.TAG_NAME, \"a\")\n",
    "        for line in tags_within_element:\n",
    "            link = line.get_attribute('href')\n",
    "            content_link.append(link)\n",
    "            content_link = content_link[0:15]\n",
    "        for link in content_link:\n",
    "            driver.get(link)\n",
    "            elem = driver.find_element(By.XPATH, \"//div[@id='tabs-tab-title-1']\")\n",
    "            data.append(elem.text)\n",
    "    except NoSuchElementException:\n",
    "        print(\"Element not found\")\n",
    "    finally:\n",
    "        with open(\"law.csv\", mode='w', newline='', encoding = 'utf-8') as file:\n",
    "            writer = csv.writer(file)\n",
    "            writer.writerow([\"Content\"])\n",
    "            writer.writerows([[text] for text in data])\n",
    "driver.quit()"
   ]
  }
 ],
 "metadata": {
  "kernelspec": {
   "display_name": "base",
   "language": "python",
   "name": "python3"
  },
  "language_info": {
   "codemirror_mode": {
    "name": "ipython",
    "version": 3
   },
   "file_extension": ".py",
   "mimetype": "text/x-python",
   "name": "python",
   "nbconvert_exporter": "python",
   "pygments_lexer": "ipython3",
   "version": "3.11.4"
  },
  "orig_nbformat": 4
 },
 "nbformat": 4,
 "nbformat_minor": 2
}
